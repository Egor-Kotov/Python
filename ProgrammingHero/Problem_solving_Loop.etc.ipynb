{
 "cells": [
  {
   "cell_type": "code",
   "execution_count": 4,
   "id": "e67f65e4",
   "metadata": {},
   "outputs": [
    {
     "name": "stdout",
     "output_type": "stream",
     "text": [
      "212\n",
      "212\n"
     ]
    }
   ],
   "source": [
    "# Maximum from list 1\n",
    "x = [ 7, 55, 1, 101, 11, 212, 4, 34, 185, 10, 117, 8, 9]\n",
    "print(max(x))\n",
    "\n",
    "# Maximum from list 2\n",
    "x = [ 7, 55, 1, 101, 11, 212, 4, 34, 185, 10, 117, 8, 9]\n",
    "a = 0\n",
    "for i in x:\n",
    "    if i > a:\n",
    "        a = i\n",
    "print(a)"
   ]
  },
  {
   "cell_type": "code",
   "execution_count": 14,
   "id": "66b89550",
   "metadata": {},
   "outputs": [
    {
     "name": "stdout",
     "output_type": "stream",
     "text": [
      "Your number: 5\n",
      "55\n",
      "Your number: 5\n",
      "Sum of squares 55.0\n"
     ]
    }
   ],
   "source": [
    "# Sum of squares 1\n",
    "def sos(x):\n",
    "    sum_of_squar = 0\n",
    "    for i in range(x+1):\n",
    "        sum_of_squar = i**2+sum_of_squar\n",
    "    return sum_of_squar\n",
    "print(sos(int(input('Your number: '))))\n",
    "\n",
    "# Sum of squares 2\n",
    "def sosq(num):\n",
    "    sum = num*(num+1)*(2*num+1)/6\n",
    "    return sum\n",
    "num1 = int(input('Your number: '))\n",
    "print(f\"Sum of squares {sosq(num1)}\")"
   ]
  },
  {
   "cell_type": "code",
   "execution_count": 4,
   "id": "8da2349d",
   "metadata": {},
   "outputs": [
    {
     "name": "stdout",
     "output_type": "stream",
     "text": [
      "Your miles - 4356\n",
      "My km - 7010.3\n"
     ]
    }
   ],
   "source": [
    "# miles to km\n",
    "miles = float(input('Your miles - '))\n",
    "km = round(miles*1.609344, 1)\n",
    "print(f'My km - {km}')"
   ]
  },
  {
   "cell_type": "code",
   "execution_count": 5,
   "id": "29378874",
   "metadata": {},
   "outputs": [
    {
     "name": "stdout",
     "output_type": "stream",
     "text": [
      "Your celsius - °C54\n",
      "My fahrenhei - 129.2 °F\n"
     ]
    }
   ],
   "source": [
    "# celsius to fahrenhei\n",
    "celsius = float(input('Your celsius - °C'))\n",
    "fahrenhei = round(celsius*9/5+32,1)\n",
    "print(f'My fahrenhei - {fahrenhei} °F')\n",
    "\n",
    "# "
   ]
  },
  {
   "cell_type": "code",
   "execution_count": 22,
   "id": "95a28713",
   "metadata": {},
   "outputs": [
    {
     "name": "stdout",
     "output_type": "stream",
     "text": [
      "Your decimal - 324324\n",
      "1001111001011100100\n"
     ]
    }
   ],
   "source": [
    "# Decimal to binary\n",
    "num = int(input('Your decimal - '))\n",
    "def to_binary(a):\n",
    "    b = ''\n",
    "    while True:\n",
    "        if a%2 == 0:\n",
    "            b = \"%s%s\" % (b,0)\n",
    "        else:\n",
    "            b = \"%s%s\" % (b,1)\n",
    "        a = a//2\n",
    "        if a == 1:\n",
    "            b = \"%s%s\" % (b,1)\n",
    "            b = b[::-1]\n",
    "            break\n",
    "    return b\n",
    "print(to_binary(num))"
   ]
  },
  {
   "cell_type": "code",
   "execution_count": null,
   "id": "d652cac2",
   "metadata": {},
   "outputs": [],
   "source": []
  }
 ],
 "metadata": {
  "kernelspec": {
   "display_name": "Python 3 (ipykernel)",
   "language": "python",
   "name": "python3"
  },
  "language_info": {
   "codemirror_mode": {
    "name": "ipython",
    "version": 3
   },
   "file_extension": ".py",
   "mimetype": "text/x-python",
   "name": "python",
   "nbconvert_exporter": "python",
   "pygments_lexer": "ipython3",
   "version": "3.9.7"
  }
 },
 "nbformat": 4,
 "nbformat_minor": 5
}
