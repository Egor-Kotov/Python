{
 "cells": [
  {
   "cell_type": "code",
   "execution_count": 4,
   "id": "e67f65e4",
   "metadata": {},
   "outputs": [
    {
     "name": "stdout",
     "output_type": "stream",
     "text": [
      "212\n",
      "212\n"
     ]
    }
   ],
   "source": [
    "# Maximum from list 1\n",
    "x = [ 7, 55, 1, 101, 11, 212, 4, 34, 185, 10, 117, 8, 9]\n",
    "print(max(x))\n",
    "\n",
    "# Maximum from list 2\n",
    "x = [ 7, 55, 1, 101, 11, 212, 4, 34, 185, 10, 117, 8, 9]\n",
    "a = 0\n",
    "for i in x:\n",
    "    if i > a:\n",
    "        a = i\n",
    "print(a)"
   ]
  },
  {
   "cell_type": "code",
   "execution_count": 14,
   "id": "66b89550",
   "metadata": {},
   "outputs": [
    {
     "name": "stdout",
     "output_type": "stream",
     "text": [
      "Your number: 5\n",
      "55\n",
      "Your number: 5\n",
      "Sum of squares 55.0\n"
     ]
    }
   ],
   "source": [
    "# Sum of squares 1\n",
    "def sos(x):\n",
    "    sum_of_squar = 0\n",
    "    for i in range(x+1):\n",
    "        sum_of_squar = i**2+sum_of_squar\n",
    "    return sum_of_squar\n",
    "print(sos(int(input('Your number: '))))\n",
    "\n",
    "# Sum of squares 2\n",
    "def sosq(num):\n",
    "    sum = num*(num+1)*(2*num+1)/6\n",
    "    return sum\n",
    "num1 = int(input('Your number: '))\n",
    "print(f\"Sum of squares {sosq(num1)}\")"
   ]
  },
  {
   "cell_type": "code",
   "execution_count": null,
   "id": "8da2349d",
   "metadata": {},
   "outputs": [],
   "source": []
  }
 ],
 "metadata": {
  "kernelspec": {
   "display_name": "Python 3 (ipykernel)",
   "language": "python",
   "name": "python3"
  },
  "language_info": {
   "codemirror_mode": {
    "name": "ipython",
    "version": 3
   },
   "file_extension": ".py",
   "mimetype": "text/x-python",
   "name": "python",
   "nbconvert_exporter": "python",
   "pygments_lexer": "ipython3",
   "version": "3.9.7"
  }
 },
 "nbformat": 4,
 "nbformat_minor": 5
}
